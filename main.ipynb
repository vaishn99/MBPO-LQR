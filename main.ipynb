{
 "cells": [
  {
   "cell_type": "code",
   "execution_count": 1,
   "metadata": {},
   "outputs": [],
   "source": [
    "import numpy as np\n",
    "from scipy.linalg import lstsq\n",
    "import  numpy.random as random\n",
    "from operator import itemgetter\n",
    "from scipy.optimize import nnls\n",
    "import math\n",
    "\n"
   ]
  },
  {
   "cell_type": "code",
   "execution_count": 2,
   "metadata": {},
   "outputs": [],
   "source": [
    "# Defining some global parameters\n",
    "\n",
    "horiz_len=10\n",
    "num_of_rollouts=10\n",
    "lamb=0.1"
   ]
  },
  {
   "cell_type": "code",
   "execution_count": 3,
   "metadata": {},
   "outputs": [],
   "source": [
    "# Defining required classes\n",
    "\n",
    "class ReplayMemory:\n",
    "    def __init__(self, capacity):\n",
    "        self.capacity = capacity\n",
    "        self.buffer = []\n",
    "        self.position = 0\n",
    "    def flush_all(self):\n",
    "        self.buffer = []\n",
    "        self.position = 0\n",
    "        return\n",
    "\n",
    "    def push(self, state, action, reward, next_state, done,policy):\n",
    "        if len(self.buffer) < self.capacity:\n",
    "            self.buffer.append(None)\n",
    "        self.buffer[self.position] = (state, action, reward, next_state, done,policy)\n",
    "        self.position = (self.position + 1) % self.capacity\n",
    "\n",
    "    def push_batch(self, batch):\n",
    "        if len(self.buffer) < self.capacity:\n",
    "            append_len = min(self.capacity - len(self.buffer), len(batch))\n",
    "            self.buffer.extend([None] * append_len)\n",
    "\n",
    "        if self.position + len(batch) < self.capacity:\n",
    "            self.buffer[self.position : self.position + len(batch)] = batch\n",
    "            self.position += len(batch)\n",
    "        else:\n",
    "            self.buffer[self.position : len(self.buffer)] = batch[:len(self.buffer) - self.position]\n",
    "            self.buffer[:len(batch) - len(self.buffer) + self.position] = batch[len(self.buffer) - self.position:]\n",
    "            self.position = len(batch) - len(self.buffer) + self.position\n",
    "\n",
    "    def sample(self, batch_size):\n",
    "        if batch_size > len(self.buffer):\n",
    "            batch_size = len(self.buffer)\n",
    "        batch = random.sample(self.buffer, int(batch_size))\n",
    "        state, action, reward, next_state, done,policy = map(np.stack, zip(*batch))\n",
    "        return state, action, reward, next_state, done,policy\n",
    "\n",
    "    def sample_all_batch(self, batch_size):\n",
    "        idxes = np.random.randint(0, len(self.buffer), batch_size)\n",
    "        batch = list(itemgetter(*idxes)(self.buffer))\n",
    "        state, action, reward, next_state, done,policy = map(np.stack, zip(*batch))\n",
    "        return state, action, reward, next_state, done,policy\n",
    "\n",
    "    def return_all(self):\n",
    "        return self.buffer\n",
    "\n",
    "    def __len__(self):\n",
    "        return len(self.buffer)\n",
    "\n",
    "\n",
    "class ENV:\n",
    "    def __init__(self,A,B,Q,R,target_state=np.zeros(3)):\n",
    "        \n",
    "        self.A=A\n",
    "        self.B=B\n",
    "        self.Q=Q\n",
    "        self.R=R\n",
    "        self.target_state=target_state\n",
    "        self.current_action=None\n",
    "        self.current_state=None\n",
    "        \n",
    "    def reset(self):\n",
    "        self.current_state=np.array([0.4,-0.6,0.2])\n",
    "        return self.current_state\n",
    "\n",
    "    def step(self,action):\n",
    "        mean = self.A@np.array([self.current_state]).T + self.B@action\n",
    "        next_state=np.random.multivariate_normal(mean.T[0],np.eye(len(mean)))\n",
    "        part_1=np.array([next_state])@self.Q@np.array([next_state]).T\n",
    "        part_2=action.T@self.R@action\n",
    "        \n",
    "        self.current_action=action\n",
    "        if np.linalg.norm(next_state-self.target_state)<0.1:\n",
    "            return part_1+part_2,next_state,True\n",
    "        \n",
    "        return part_1+part_2,next_state,False"
   ]
  },
  {
   "cell_type": "code",
   "execution_count": 4,
   "metadata": {},
   "outputs": [],
   "source": [
    "def New_Estimate(D_real):\n",
    "    \n",
    "    # Need to figure out the problem.\n",
    "    \n",
    "    if len(D_real)==0:\n",
    "        return -1\n",
    "    dim_state=D_real.buffer[0][0].shape[0]\n",
    "    dim_action=D_real.buffer[0][1].shape[0]\n",
    "    \n",
    "    A_T=np.zeros(shape=(dim_state+dim_action,len(D_real)))\n",
    "    b_T=np.zeros(shape=(dim_state,len(D_real)))\n",
    "    for i in range(len(D_real)):\n",
    "        b_T[:,i]=D_real.buffer[i][3]\n",
    "        A_T[:,i]=np.concatenate((D_real.buffer[i][0],D_real.buffer[i][1].T[0]))\n",
    "    A=A_T.T\n",
    "    b=b_T.T\n",
    "    total_hat=lstsq(A,b)[0] # need to split\n",
    "    A_hat=total_hat[:dim_state]\n",
    "    B_hat=total_hat[dim_state:]\n",
    "    \n",
    "    A=np.zeros(shape=(len(D_real),dim_state+dim_action))\n",
    "    b=np.zeros(shape=(len(D_real),1))\n",
    "    for i in range(len(D_real.buffer)):\n",
    "        A[i,:]=np.concatenate((D_real.buffer[i][0],D_real.buffer[i][1].T[0]))\n",
    "        b[i,:]=D_real.buffer[i][2]\n",
    "    A=np.square(A)\n",
    "    total_hat=nnls(A,b)[0]\n",
    "    total_hat=total_hat.T[0]\n",
    "    Q_hat=total_hat[:dim_state]\n",
    "    R_hat=total_hat[dim_state:]\n",
    "    Q_hat=np.diag(Q_hat)\n",
    "    R_hat=np.diag(R_hat)\n",
    "    model= [A_hat,B_hat,Q_hat,R_hat]  \n",
    "    return model\n",
    "\n",
    "def Sample_state(D_real):\n",
    "    ind=np.random.randint(low=0,high=D_real.position) \n",
    "    return D_real.buffer[ind][0]\n",
    "\n",
    "\n",
    "def update_D_fake(S_t,model,K_t,D_fake):\n",
    "    \n",
    "    A_hat,B_hat,Q_hat,R_hat=model[0],model[1],model[2],model[3]\n",
    "    \n",
    "    i=0\n",
    "    holder=[]\n",
    "    Is_done=False\n",
    "    target_state=np.zeros(3)\n",
    "    \n",
    "    while i<horiz_len and Is_done!=True:\n",
    "        prev=S_t\n",
    "        u_T=K_t@np.array([S_t]).T\n",
    "        S_t=A_hat@np.array([S_t]).T+B_hat@u_T\n",
    "        \n",
    "        next_state=np.random.multivariate_normal(S_t.T[0],np.eye(len(S_t)))\n",
    "        \n",
    "        part_1=np.array([next_state])@Q_hat@np.array([next_state]).T\n",
    "        part_2=u_T.T@R_hat@u_T\n",
    "        S_t=next_state\n",
    "        \n",
    "        if np.linalg.norm(S_t-target_state)<0.01:\n",
    "            Is_done=True\n",
    "        \n",
    "        D_fake.push(prev,u_T,part_1[0][0]+part_2[0][0],next_state,Is_done,K_t)\n",
    "        i+=1\n",
    "    \n",
    "    return \n",
    "\n",
    "def update_D_real(K_t,env,D_real):\n",
    "    \n",
    "    i=0\n",
    "    Is_done=False\n",
    "    while i<horiz_len and Is_done!=True:\n",
    "        u_T=K_t@np.array([env.current_state]).T\n",
    "        R_t,S_t,Is_done=env.step(u_T)\n",
    "        D_real.push(env.current_state,u_T,R_t[0][0],S_t,Is_done,K_t)\n",
    "        env.current_state=S_t\n",
    "        if Is_done:\n",
    "            break\n",
    "        i+=1  \n",
    "    return \n",
    "\n",
    "\n",
    "def mod_New_Estimate(D_real):\n",
    "    \n",
    "    if len(D_real)==0:\n",
    "        return -1\n",
    "    dim_state=D_real.buffer[0][0].shape[0]\n",
    "    dim_action=D_real.buffer[0][1].shape[0]\n",
    "    A_T=np.zeros(shape=(dim_state+dim_action,len(D_real)))\n",
    "    b_T=np.zeros(shape=(dim_state,len(D_real)))\n",
    "    for i in range(len(D_real)):\n",
    "        b_T[:,i]=D_real.buffer[i][3]\n",
    "        A_T[:,i]=np.concatenate((D_real.buffer[i][0],D_real.buffer[i][1].T[0]))\n",
    "    A=A_T.T\n",
    "    b=b_T.T\n",
    "    \n",
    "    # Need to add regulariser term.\n",
    "    \n",
    "    lamb = 1\n",
    "    n_variables = A.shape[1]\n",
    "    \n",
    "    opt_parameters=np.zeros(shape=(dim_state,dim_state+dim_action))\n",
    "    \n",
    "    for i in range(dim_state):\n",
    "        A2 = np.concatenate([A, math.sqrt(lamb)*np.eye(n_variables)])\n",
    "        B2 = np.concatenate([b[:,i], np.zeros(n_variables)])\n",
    "        opt_parameters[i]=lstsq(A2,B2)[0]\n",
    "    A_hat = opt_parameters[:,:dim_state]\n",
    "    B_hat = opt_parameters[:,dim_state:]\n",
    "    \n",
    "    A=np.zeros(shape=(len(D_real),dim_state+dim_action))\n",
    "    b=np.zeros(shape=(len(D_real),1))\n",
    "    for i in range(len(D_real.buffer)):\n",
    "        A[i,:]=np.concatenate((D_real.buffer[i][0],D_real.buffer[i][1].T[0]))\n",
    "        b[i,:]=D_real.buffer[i][2]\n",
    "    A=np.square(A)\n",
    "    total_hat=nnls(A,b.T[0])[0]\n",
    "    Q_hat=np.diag(total_hat[:3])\n",
    "    R_hat=np.diag(total_hat[3:])\n",
    "    \n",
    "    \n",
    "    \n",
    "    \n",
    "    return [A_hat,B_hat,Q_hat,R_hat]\n",
    "\n",
    "\n",
    "# importance sampling based policy gradient\n",
    "\n",
    "def Normal_distrb(z, μ, Σ):\n",
    "\n",
    "    z = np.atleast_2d(z)\n",
    "    μ = np.atleast_2d(μ)\n",
    "    Σ = np.atleast_2d(Σ)\n",
    "\n",
    "    N = z.size\n",
    "\n",
    "    temp1 = np.linalg.det(Σ) ** (-1/2)\n",
    "    temp2 = np.exp(-.5 * (z - μ).T @ np.linalg.inv(Σ) @ (z - μ))\n",
    "\n",
    "    return (2 * np.pi) ** (-N/2) * temp1 * temp2\n",
    "\n"
   ]
  },
  {
   "attachments": {},
   "cell_type": "markdown",
   "metadata": {},
   "source": [
    "# Grad computation-Basic form"
   ]
  },
  {
   "attachments": {},
   "cell_type": "markdown",
   "metadata": {},
   "source": [
    "<img src=\"/Users/vaishnav/Desktop/Project/MBPO-LQR-main/Screenshot 2022-12-20 at 1.00.21 PM.png\"/>"
   ]
  },
  {
   "attachments": {},
   "cell_type": "markdown",
   "metadata": {},
   "source": [
    "# Second term:"
   ]
  },
  {
   "attachments": {},
   "cell_type": "markdown",
   "metadata": {},
   "source": [
    "<img src=\"/Users/vaishnav/Desktop/Project/MBPO-LQR-main/grad_term.jpeg\"/>"
   ]
  },
  {
   "cell_type": "code",
   "execution_count": 5,
   "metadata": {},
   "outputs": [],
   "source": [
    "def get_episodes(D_fake):\n",
    "    i=0\n",
    "    globl=[]\n",
    "    locl=[]\n",
    "    j=0\n",
    "    for i in range(D_fake.position):\n",
    "       locl.append(D_fake.buffer[i])\n",
    "       flag=D_fake.buffer[i][4]\n",
    "       i+=1\n",
    "       j+=1\n",
    "       if flag or j==horiz_len:\n",
    "           globl.append(locl)\n",
    "           locl=[]\n",
    "           j=0\n",
    "    return globl\n",
    "\n",
    "# Term 1 \n",
    "def Get_importance_term(episode,K):\n",
    "    prod=1.0\n",
    "    for i in range(len(episode)):\n",
    "        S_t=episode[i][0]\n",
    "        mean=K@np.array([S_t]).T\n",
    "        var=np.eye(3)*lamb\n",
    "        num=Normal_distrb(episode[i][1],mean,var)\n",
    "        mean=episode[i][5]@np.array([S_t]).T\n",
    "        var=np.eye(3)*lamb\n",
    "        den=Normal_distrb(episode[i][1],mean,var)\n",
    "        prod=prod*num/den\n",
    "        i+=1\n",
    "    return prod\n",
    "\n",
    "# Term 3\n",
    "def Get_Reward(episode):\n",
    "    r=0.0\n",
    "    for i in range(len(episode)):\n",
    "        r+=episode[i][2]\n",
    "        i+=1\n",
    "    return r\n",
    "\n",
    "# Term 2\n",
    "def Get_gradient_for_episode(episode,K):\n",
    "    i=0\n",
    "    grad_sum=np.zeros_like(K)\n",
    "    while i<len(episode):\n",
    "        a_t=episode[i][1]\n",
    "        s_t=episode[i][0]\n",
    "        grad_sum+=Get_gradient_for_tup(a_t,s_t,K)\n",
    "        i+=1\n",
    "    return grad_sum\n",
    "\n",
    "def Get_gradient_for_tup(a_t,s_t,K):\n",
    "    un_normlised=a_t@np.array([s_t])-K@np.array([s_t]).T@np.array([s_t])\n",
    "    return un_normlised*(1/lamb)\n",
    "\n",
    "def get_gradient(list_of_episodes,K):\n",
    "    i=0\n",
    "    grad_sum=0\n",
    "    while i<len(list_of_episodes):\n",
    "        term_1=Get_importance_term(list_of_episodes[i],K)\n",
    "        term_2=Get_Reward(list_of_episodes[i])\n",
    "        term_3=Get_gradient_for_episode(list_of_episodes[i],K)\n",
    "        grad_sum+=term_1*term_2*term_3\n",
    "        i+=1\n",
    "    return grad_sum/len(list_of_episodes)    "
   ]
  },
  {
   "cell_type": "code",
   "execution_count": 6,
   "metadata": {},
   "outputs": [],
   "source": [
    "####   Init STEP #######\n",
    "\n",
    "\n",
    "# A ->>3*3\n",
    "# B ->>3*3\n",
    "# C->eye(3)\n",
    "# K ->>3*3\n",
    "\n",
    "################################################################\n",
    "\n",
    "N=2\n",
    "E=2\n",
    "M=2\n",
    "G=2\n",
    "horiz_len=10\n",
    "num_of_rollouts=10\n",
    "\n",
    "################################################################\n",
    "\n",
    "\n",
    "# True parameters of the env\n",
    "np.random.seed(0)\n",
    "A=0.1*np.diag(np.random.rand(3))\n",
    "\n",
    "np.random.seed(4)\n",
    "B=0.1*np.diag(np.random.rand(3))\n",
    "\n",
    "np.random.seed(1)\n",
    "Q=np.diag([1,0.1,0.01])\n",
    "\n",
    "np.random.seed(3)\n",
    "R=np.diag([1,0.1,0.01])\n",
    "env=ENV(A,B,Q,R)\n",
    "env.reset() # Reset\n",
    "\n",
    "K_star=np.array([[1.71734423, 0.        , 0.        ],\n",
    "       [0.        , 2.95253427, 0.        ],\n",
    "       [0.        , 0.        , 1.79613291]])\n",
    "\n",
    "A_hat=0.1*np.diag(np.random.rand(3))   # Initial theta\n",
    "B_hat=0.1*np.diag(np.random.rand(3))   # Initial theta\n",
    "Q_hat=0.1*np.diag(np.ones(3))   # Initial theta\n",
    "R_hat=0.1*np.diag(np.ones(3))   # Initial theta\n",
    "\n",
    "# init policy\n",
    "\n",
    "K=np.random.rand(3,3)   # Initial phi\n",
    "K_t=K\n",
    "\n",
    "D_real = ReplayMemory(10000)   # Real data\n",
    "D_fake = ReplayMemory(10000)  # Fake data\n"
   ]
  },
  {
   "cell_type": "code",
   "execution_count": null,
   "metadata": {},
   "outputs": [],
   "source": [
    "def Print_model(A=None,B=None,Q=None,R=None):\n",
    "    \n",
    "    print(\"\\n****************************************************************\\n\")\n",
    "    print(\"A matrix is \\n\")\n",
    "    print(A)\n",
    "    \n",
    "    print(\"\\n****************************************************************\\n\")\n",
    "    print(\"B matrix is \\n\")\n",
    "    print(B)\n",
    "    \n",
    "    print(\"\\n****************************************************************\\n\")\n",
    "    print(\"Q matrix is \\n\")\n",
    "    print(Q)\n",
    "    \n",
    "    print(\"\\n****************************************************************\\n\")\n",
    "    print(\"R matrix is \\n\")\n",
    "    print(R)\n",
    "    \n",
    "    return"
   ]
  },
  {
   "cell_type": "code",
   "execution_count": null,
   "metadata": {},
   "outputs": [],
   "source": []
  },
  {
   "cell_type": "code",
   "execution_count": null,
   "metadata": {},
   "outputs": [],
   "source": []
  },
  {
   "cell_type": "code",
   "execution_count": null,
   "metadata": {},
   "outputs": [],
   "source": [
    "D_real.buffer[:3]"
   ]
  },
  {
   "cell_type": "code",
   "execution_count": null,
   "metadata": {},
   "outputs": [],
   "source": [
    "Print_model(A,B,Q,R)"
   ]
  },
  {
   "cell_type": "code",
   "execution_count": null,
   "metadata": {},
   "outputs": [],
   "source": [
    "# Estimation check -Test\n",
    "\n",
    "\n",
    "env.reset()\n",
    "D_real.flush_all()\n",
    "for i in range(1000):\n",
    "    update_D_real(K_t,env,D_real)   # Update D_real\n",
    "    if i%200==0:\n",
    "        A_hat,B_hat,Q_hat,R_hat=mod_New_Estimate(D_real)\n",
    "        print(\"\\n\")\n",
    "        print(np.linalg.norm(A_hat-A))\n",
    "        print(np.linalg.norm(B_hat-B))\n",
    "        print(np.linalg.norm(Q_hat-Q))\n",
    "        print(np.linalg.norm(R_hat-R))\n",
    "        \n"
   ]
  },
  {
   "cell_type": "code",
   "execution_count": null,
   "metadata": {},
   "outputs": [],
   "source": [
    "def Test_Fun(model,A,B,Q,R):\n",
    "    print(np.linalg.norm(model[0]-A))\n",
    "    print(\"\\n\")\n",
    "    print(np.linalg.norm(model[1]-B))\n",
    "    print(\"\\n\")\n",
    "    print(np.linalg.norm(model[2]-Q))\n",
    "    print(\"\\n\")\n",
    "    print(np.linalg.norm(model[3]-R))\n",
    "    print(\"\\n\")"
   ]
  },
  {
   "cell_type": "code",
   "execution_count": null,
   "metadata": {},
   "outputs": [],
   "source": [
    "# Issue occured: diverging Entries in Matrix,state vector\n",
    "# Solution : Find best set of param for the environment"
   ]
  },
  {
   "cell_type": "code",
   "execution_count": 7,
   "metadata": {},
   "outputs": [],
   "source": [
    "####   Init STEP #######\n",
    "\n",
    "\n",
    "# A ->>3*3\n",
    "# B ->>3*3\n",
    "# C->eye(3)\n",
    "# K ->>3*3\n",
    "\n",
    "################################################################\n",
    "\n",
    "N=20\n",
    "E=20\n",
    "M=5\n",
    "G=20\n",
    "horiz_len=10\n",
    "num_of_rollouts=10\n",
    "\n",
    "################################################################\n",
    "\n",
    "\n",
    "# True parameters of the env\n",
    "np.random.seed(0)\n",
    "A=0.1*np.diag(np.random.rand(3))\n",
    "\n",
    "np.random.seed(4)\n",
    "B=0.1*np.diag(np.random.rand(3))\n",
    "\n",
    "np.random.seed(1)\n",
    "Q=np.diag(np.random.rand(3))\n",
    "\n",
    "np.random.seed(3)\n",
    "R=np.diag([0.5,0.01,0])\n",
    "env=ENV(A,B,Q,R)\n",
    "env.reset() # Reset\n",
    "\n",
    "\n",
    "A_hat=0.1*np.diag(np.random.rand(3))   # Initial theta\n",
    "B_hat=0.1*np.diag(np.random.rand(3))   # Initial theta\n",
    "Q_hat=0.1*np.diag(np.ones(3))   # Initial theta\n",
    "R_hat=0.1*np.diag(np.ones(3))   # Initial theta\n",
    "\n",
    "# init policy\n",
    "\n",
    "K=np.random.rand(3,3)   # Initial phi\n",
    "K_t=K\n",
    "\n",
    "D_real = ReplayMemory(10000)   # Real data\n",
    "D_fake = ReplayMemory(10000)  # Fake data\n"
   ]
  },
  {
   "cell_type": "code",
   "execution_count": null,
   "metadata": {},
   "outputs": [],
   "source": [
    "## MBPO algorithm\n",
    "\n",
    "env.reset()\n",
    "D_fake.flush_all()\n",
    "D_real.flush_all()\n",
    "K=1*np.random.rand(3,3)   # Initial phi\n",
    "K_t=K\n",
    "A_hat=0.1*np.diag(np.random.rand(3))   # Initial theta\n",
    "B_hat=0.1*np.diag(np.random.rand(3))   # Initial theta\n",
    "Q_hat=0.1*np.diag(np.ones(3))   # Initial theta\n",
    "R_hat=0.1*np.diag(np.ones(3))   # Initial theta\n",
    "\n",
    "for n in range(N):\n",
    "    print(\"Value for n\\t\",n)\n",
    "    print(\"\\n\")\n",
    "    print(np.linalg.norm(K_t-K_star))\n",
    "    model=mod_New_Estimate(D_real) # Regression\n",
    "    if model==-1:\n",
    "        model=[A_hat,B_hat,Q_hat,R_hat]  # start \n",
    "    for e in range(E):\n",
    "        # Update D_real\n",
    "        update_D_real(K_t,env,D_real)\n",
    "        for m in range(M):\n",
    "            S_t=Sample_state(D_real)    # Random sampling\n",
    "            update_D_fake(S_t,model,K_t,D_fake) # update_D_fake\n",
    "            # Working till here\n",
    "        for g in range(G):\n",
    "            list_of_episodes=get_episodes(D_fake)   # Change representation\n",
    "            term=get_gradient(list_of_episodes,K_t)\n",
    "            if n==0:\n",
    "                K_t=K_t-math.pow(10,-2)*(term+np.random.multivariate_normal(np.zeros(3),0.01*np.eye(3)))   # unKnown parameter (From trajectories -off policy settings)\n",
    "            else:  \n",
    "                K_t=K_t-math.pow(10,-2)*(term+0.0) # unKnown parameter (From trajectories -off policy settings)\n",
    "            "
   ]
  },
  {
   "cell_type": "code",
   "execution_count": 15,
   "metadata": {},
   "outputs": [],
   "source": [
    "from tqdm import tqdm"
   ]
  },
  {
   "cell_type": "code",
   "execution_count": 19,
   "metadata": {},
   "outputs": [
    {
     "name": "stderr",
     "output_type": "stream",
     "text": [
      "  1%|▏         | 1/80 [00:00<00:09,  8.35it/s]"
     ]
    },
    {
     "name": "stdout",
     "output_type": "stream",
     "text": [
      "0\n",
      "10\n"
     ]
    },
    {
     "name": "stderr",
     "output_type": "stream",
     "text": [
      "  2%|▎         | 2/80 [00:00<00:13,  5.63it/s]"
     ]
    },
    {
     "name": "stdout",
     "output_type": "stream",
     "text": [
      "20\n"
     ]
    },
    {
     "name": "stderr",
     "output_type": "stream",
     "text": [
      "  4%|▍         | 3/80 [00:00<00:18,  4.10it/s]"
     ]
    },
    {
     "name": "stdout",
     "output_type": "stream",
     "text": [
      "30\n"
     ]
    },
    {
     "name": "stderr",
     "output_type": "stream",
     "text": [
      "  5%|▌         | 4/80 [00:01<00:23,  3.18it/s]"
     ]
    },
    {
     "name": "stdout",
     "output_type": "stream",
     "text": [
      "40\n"
     ]
    },
    {
     "name": "stderr",
     "output_type": "stream",
     "text": [
      "  6%|▋         | 5/80 [00:01<00:30,  2.50it/s]"
     ]
    },
    {
     "name": "stdout",
     "output_type": "stream",
     "text": [
      "50\n"
     ]
    },
    {
     "name": "stderr",
     "output_type": "stream",
     "text": [
      "  8%|▊         | 6/80 [00:02<00:38,  1.95it/s]"
     ]
    },
    {
     "name": "stdout",
     "output_type": "stream",
     "text": [
      "60\n"
     ]
    },
    {
     "name": "stderr",
     "output_type": "stream",
     "text": [
      "  9%|▉         | 7/80 [00:03<00:43,  1.69it/s]"
     ]
    },
    {
     "name": "stdout",
     "output_type": "stream",
     "text": [
      "70\n"
     ]
    },
    {
     "name": "stderr",
     "output_type": "stream",
     "text": [
      " 10%|█         | 8/80 [00:03<00:48,  1.49it/s]"
     ]
    },
    {
     "name": "stdout",
     "output_type": "stream",
     "text": [
      "80\n"
     ]
    },
    {
     "name": "stderr",
     "output_type": "stream",
     "text": [
      " 11%|█▏        | 9/80 [00:04<00:53,  1.34it/s]"
     ]
    },
    {
     "name": "stdout",
     "output_type": "stream",
     "text": [
      "90\n"
     ]
    },
    {
     "name": "stderr",
     "output_type": "stream",
     "text": [
      " 12%|█▎        | 10/80 [00:05<00:58,  1.20it/s]"
     ]
    },
    {
     "name": "stdout",
     "output_type": "stream",
     "text": [
      "100\n"
     ]
    },
    {
     "name": "stderr",
     "output_type": "stream",
     "text": [
      " 14%|█▍        | 11/80 [00:07<01:04,  1.06it/s]"
     ]
    },
    {
     "name": "stdout",
     "output_type": "stream",
     "text": [
      "110\n"
     ]
    },
    {
     "name": "stderr",
     "output_type": "stream",
     "text": [
      " 15%|█▌        | 12/80 [00:08<01:09,  1.03s/it]"
     ]
    },
    {
     "name": "stdout",
     "output_type": "stream",
     "text": [
      "120\n"
     ]
    },
    {
     "name": "stderr",
     "output_type": "stream",
     "text": [
      " 16%|█▋        | 13/80 [00:09<01:14,  1.12s/it]"
     ]
    },
    {
     "name": "stdout",
     "output_type": "stream",
     "text": [
      "130\n"
     ]
    },
    {
     "name": "stderr",
     "output_type": "stream",
     "text": [
      " 18%|█▊        | 14/80 [00:11<01:21,  1.24s/it]"
     ]
    },
    {
     "name": "stdout",
     "output_type": "stream",
     "text": [
      "140\n"
     ]
    },
    {
     "name": "stderr",
     "output_type": "stream",
     "text": [
      " 19%|█▉        | 15/80 [00:12<01:26,  1.33s/it]"
     ]
    },
    {
     "name": "stdout",
     "output_type": "stream",
     "text": [
      "150\n"
     ]
    },
    {
     "name": "stderr",
     "output_type": "stream",
     "text": [
      " 20%|██        | 16/80 [00:14<01:31,  1.42s/it]"
     ]
    },
    {
     "name": "stdout",
     "output_type": "stream",
     "text": [
      "160\n"
     ]
    },
    {
     "name": "stderr",
     "output_type": "stream",
     "text": [
      " 21%|██▏       | 17/80 [00:16<01:36,  1.53s/it]"
     ]
    },
    {
     "name": "stdout",
     "output_type": "stream",
     "text": [
      "170\n"
     ]
    },
    {
     "name": "stderr",
     "output_type": "stream",
     "text": [
      " 22%|██▎       | 18/80 [00:18<01:44,  1.69s/it]"
     ]
    },
    {
     "name": "stdout",
     "output_type": "stream",
     "text": [
      "180\n"
     ]
    },
    {
     "name": "stderr",
     "output_type": "stream",
     "text": [
      " 24%|██▍       | 19/80 [00:20<01:54,  1.88s/it]"
     ]
    },
    {
     "name": "stdout",
     "output_type": "stream",
     "text": [
      "190\n"
     ]
    },
    {
     "name": "stderr",
     "output_type": "stream",
     "text": [
      " 25%|██▌       | 20/80 [00:22<01:58,  1.97s/it]"
     ]
    },
    {
     "name": "stdout",
     "output_type": "stream",
     "text": [
      "200\n"
     ]
    },
    {
     "name": "stderr",
     "output_type": "stream",
     "text": [
      " 26%|██▋       | 21/80 [00:25<02:02,  2.08s/it]"
     ]
    },
    {
     "name": "stdout",
     "output_type": "stream",
     "text": [
      "210\n"
     ]
    },
    {
     "name": "stderr",
     "output_type": "stream",
     "text": [
      " 28%|██▊       | 22/80 [00:27<02:04,  2.15s/it]"
     ]
    },
    {
     "name": "stdout",
     "output_type": "stream",
     "text": [
      "220\n"
     ]
    },
    {
     "name": "stderr",
     "output_type": "stream",
     "text": [
      " 29%|██▉       | 23/80 [00:29<02:07,  2.24s/it]"
     ]
    },
    {
     "name": "stdout",
     "output_type": "stream",
     "text": [
      "230\n"
     ]
    },
    {
     "name": "stderr",
     "output_type": "stream",
     "text": [
      " 30%|███       | 24/80 [00:33<02:22,  2.54s/it]"
     ]
    },
    {
     "name": "stdout",
     "output_type": "stream",
     "text": [
      "240\n"
     ]
    },
    {
     "name": "stderr",
     "output_type": "stream",
     "text": [
      " 31%|███▏      | 25/80 [00:35<02:20,  2.56s/it]"
     ]
    },
    {
     "name": "stdout",
     "output_type": "stream",
     "text": [
      "250\n"
     ]
    },
    {
     "name": "stderr",
     "output_type": "stream",
     "text": [
      " 32%|███▎      | 26/80 [00:38<02:19,  2.58s/it]"
     ]
    },
    {
     "name": "stdout",
     "output_type": "stream",
     "text": [
      "260\n"
     ]
    },
    {
     "name": "stderr",
     "output_type": "stream",
     "text": [
      " 34%|███▍      | 27/80 [00:41<02:19,  2.64s/it]"
     ]
    },
    {
     "name": "stdout",
     "output_type": "stream",
     "text": [
      "270\n"
     ]
    },
    {
     "name": "stderr",
     "output_type": "stream",
     "text": [
      " 35%|███▌      | 28/80 [00:43<02:20,  2.69s/it]"
     ]
    },
    {
     "name": "stdout",
     "output_type": "stream",
     "text": [
      "280\n"
     ]
    },
    {
     "name": "stderr",
     "output_type": "stream",
     "text": [
      " 36%|███▋      | 29/80 [00:47<02:29,  2.93s/it]"
     ]
    },
    {
     "name": "stdout",
     "output_type": "stream",
     "text": [
      "290\n"
     ]
    },
    {
     "name": "stderr",
     "output_type": "stream",
     "text": [
      " 38%|███▊      | 30/80 [00:50<02:29,  3.00s/it]"
     ]
    },
    {
     "name": "stdout",
     "output_type": "stream",
     "text": [
      "300\n"
     ]
    },
    {
     "name": "stderr",
     "output_type": "stream",
     "text": [
      " 39%|███▉      | 31/80 [00:53<02:30,  3.06s/it]"
     ]
    },
    {
     "name": "stdout",
     "output_type": "stream",
     "text": [
      "310\n"
     ]
    },
    {
     "name": "stderr",
     "output_type": "stream",
     "text": [
      " 40%|████      | 32/80 [00:56<02:29,  3.12s/it]"
     ]
    },
    {
     "name": "stdout",
     "output_type": "stream",
     "text": [
      "320\n"
     ]
    },
    {
     "name": "stderr",
     "output_type": "stream",
     "text": [
      " 41%|████▏     | 33/80 [01:00<02:30,  3.20s/it]"
     ]
    },
    {
     "name": "stdout",
     "output_type": "stream",
     "text": [
      "330\n"
     ]
    },
    {
     "name": "stderr",
     "output_type": "stream",
     "text": [
      " 42%|████▎     | 34/80 [01:03<02:30,  3.28s/it]"
     ]
    },
    {
     "name": "stdout",
     "output_type": "stream",
     "text": [
      "340\n"
     ]
    },
    {
     "name": "stderr",
     "output_type": "stream",
     "text": [
      " 44%|████▍     | 35/80 [01:07<02:32,  3.38s/it]"
     ]
    },
    {
     "name": "stdout",
     "output_type": "stream",
     "text": [
      "350\n"
     ]
    },
    {
     "name": "stderr",
     "output_type": "stream",
     "text": [
      " 45%|████▌     | 36/80 [01:11<02:32,  3.47s/it]"
     ]
    },
    {
     "name": "stdout",
     "output_type": "stream",
     "text": [
      "360\n"
     ]
    },
    {
     "name": "stderr",
     "output_type": "stream",
     "text": [
      " 46%|████▋     | 37/80 [01:14<02:33,  3.56s/it]"
     ]
    },
    {
     "name": "stdout",
     "output_type": "stream",
     "text": [
      "370\n"
     ]
    },
    {
     "name": "stderr",
     "output_type": "stream",
     "text": [
      " 48%|████▊     | 38/80 [01:18<02:36,  3.72s/it]"
     ]
    },
    {
     "name": "stdout",
     "output_type": "stream",
     "text": [
      "380\n"
     ]
    },
    {
     "name": "stderr",
     "output_type": "stream",
     "text": [
      " 49%|████▉     | 39/80 [01:23<02:39,  3.89s/it]"
     ]
    },
    {
     "name": "stdout",
     "output_type": "stream",
     "text": [
      "390\n"
     ]
    },
    {
     "name": "stderr",
     "output_type": "stream",
     "text": [
      " 50%|█████     | 40/80 [01:27<02:40,  4.01s/it]"
     ]
    },
    {
     "name": "stdout",
     "output_type": "stream",
     "text": [
      "400\n"
     ]
    },
    {
     "name": "stderr",
     "output_type": "stream",
     "text": [
      " 51%|█████▏    | 41/80 [01:31<02:37,  4.04s/it]"
     ]
    },
    {
     "name": "stdout",
     "output_type": "stream",
     "text": [
      "410\n"
     ]
    },
    {
     "name": "stderr",
     "output_type": "stream",
     "text": [
      " 52%|█████▎    | 42/80 [01:35<02:36,  4.12s/it]"
     ]
    },
    {
     "name": "stdout",
     "output_type": "stream",
     "text": [
      "420\n"
     ]
    },
    {
     "name": "stderr",
     "output_type": "stream",
     "text": [
      " 54%|█████▍    | 43/80 [01:40<02:35,  4.21s/it]"
     ]
    },
    {
     "name": "stdout",
     "output_type": "stream",
     "text": [
      "430\n"
     ]
    },
    {
     "name": "stderr",
     "output_type": "stream",
     "text": [
      " 55%|█████▌    | 44/80 [01:44<02:33,  4.26s/it]"
     ]
    },
    {
     "name": "stdout",
     "output_type": "stream",
     "text": [
      "440\n"
     ]
    },
    {
     "name": "stderr",
     "output_type": "stream",
     "text": [
      " 56%|█████▋    | 45/80 [01:49<02:31,  4.34s/it]"
     ]
    },
    {
     "name": "stdout",
     "output_type": "stream",
     "text": [
      "450\n"
     ]
    },
    {
     "name": "stderr",
     "output_type": "stream",
     "text": [
      " 57%|█████▊    | 46/80 [01:53<02:30,  4.42s/it]"
     ]
    },
    {
     "name": "stdout",
     "output_type": "stream",
     "text": [
      "460\n"
     ]
    },
    {
     "name": "stderr",
     "output_type": "stream",
     "text": [
      " 59%|█████▉    | 47/80 [01:58<02:28,  4.50s/it]"
     ]
    },
    {
     "name": "stdout",
     "output_type": "stream",
     "text": [
      "470\n"
     ]
    },
    {
     "name": "stderr",
     "output_type": "stream",
     "text": [
      " 60%|██████    | 48/80 [02:03<02:26,  4.59s/it]"
     ]
    },
    {
     "name": "stdout",
     "output_type": "stream",
     "text": [
      "480\n"
     ]
    },
    {
     "name": "stderr",
     "output_type": "stream",
     "text": [
      " 61%|██████▏   | 49/80 [02:08<02:25,  4.68s/it]"
     ]
    },
    {
     "name": "stdout",
     "output_type": "stream",
     "text": [
      "490\n"
     ]
    },
    {
     "name": "stderr",
     "output_type": "stream",
     "text": [
      " 62%|██████▎   | 50/80 [02:13<02:24,  4.80s/it]"
     ]
    },
    {
     "name": "stdout",
     "output_type": "stream",
     "text": [
      "500\n"
     ]
    },
    {
     "name": "stderr",
     "output_type": "stream",
     "text": [
      " 64%|██████▍   | 51/80 [02:18<02:22,  4.93s/it]"
     ]
    },
    {
     "name": "stdout",
     "output_type": "stream",
     "text": [
      "510\n"
     ]
    },
    {
     "name": "stderr",
     "output_type": "stream",
     "text": [
      " 65%|██████▌   | 52/80 [02:23<02:20,  5.02s/it]"
     ]
    },
    {
     "name": "stdout",
     "output_type": "stream",
     "text": [
      "520\n"
     ]
    },
    {
     "name": "stderr",
     "output_type": "stream",
     "text": [
      " 66%|██████▋   | 53/80 [02:29<02:17,  5.11s/it]"
     ]
    },
    {
     "name": "stdout",
     "output_type": "stream",
     "text": [
      "530\n"
     ]
    },
    {
     "name": "stderr",
     "output_type": "stream",
     "text": [
      " 68%|██████▊   | 54/80 [02:34<02:15,  5.20s/it]"
     ]
    },
    {
     "name": "stdout",
     "output_type": "stream",
     "text": [
      "540\n"
     ]
    },
    {
     "name": "stderr",
     "output_type": "stream",
     "text": [
      " 69%|██████▉   | 55/80 [02:40<02:13,  5.35s/it]"
     ]
    },
    {
     "name": "stdout",
     "output_type": "stream",
     "text": [
      "550\n"
     ]
    },
    {
     "name": "stderr",
     "output_type": "stream",
     "text": [
      " 70%|███████   | 56/80 [02:45<02:10,  5.45s/it]"
     ]
    },
    {
     "name": "stdout",
     "output_type": "stream",
     "text": [
      "560\n"
     ]
    },
    {
     "name": "stderr",
     "output_type": "stream",
     "text": [
      " 71%|███████▏  | 57/80 [02:51<02:09,  5.63s/it]"
     ]
    },
    {
     "name": "stdout",
     "output_type": "stream",
     "text": [
      "570\n"
     ]
    },
    {
     "name": "stderr",
     "output_type": "stream",
     "text": [
      " 72%|███████▎  | 58/80 [02:57<02:05,  5.69s/it]"
     ]
    },
    {
     "name": "stdout",
     "output_type": "stream",
     "text": [
      "580\n"
     ]
    },
    {
     "name": "stderr",
     "output_type": "stream",
     "text": [
      " 74%|███████▍  | 59/80 [03:03<02:02,  5.83s/it]"
     ]
    },
    {
     "name": "stdout",
     "output_type": "stream",
     "text": [
      "590\n"
     ]
    },
    {
     "name": "stderr",
     "output_type": "stream",
     "text": [
      " 75%|███████▌  | 60/80 [03:10<01:58,  5.90s/it]"
     ]
    },
    {
     "name": "stdout",
     "output_type": "stream",
     "text": [
      "600\n"
     ]
    },
    {
     "name": "stderr",
     "output_type": "stream",
     "text": [
      " 76%|███████▋  | 61/80 [03:16<01:55,  6.10s/it]"
     ]
    },
    {
     "name": "stdout",
     "output_type": "stream",
     "text": [
      "610\n"
     ]
    },
    {
     "name": "stderr",
     "output_type": "stream",
     "text": [
      " 78%|███████▊  | 62/80 [03:22<01:50,  6.14s/it]"
     ]
    },
    {
     "name": "stdout",
     "output_type": "stream",
     "text": [
      "620\n"
     ]
    },
    {
     "name": "stderr",
     "output_type": "stream",
     "text": [
      " 79%|███████▉  | 63/80 [03:29<01:45,  6.20s/it]"
     ]
    },
    {
     "name": "stdout",
     "output_type": "stream",
     "text": [
      "630\n"
     ]
    },
    {
     "name": "stderr",
     "output_type": "stream",
     "text": [
      " 80%|████████  | 64/80 [03:35<01:41,  6.36s/it]"
     ]
    },
    {
     "name": "stdout",
     "output_type": "stream",
     "text": [
      "640\n"
     ]
    },
    {
     "name": "stderr",
     "output_type": "stream",
     "text": [
      " 81%|████████▏ | 65/80 [03:42<01:36,  6.41s/it]"
     ]
    },
    {
     "name": "stdout",
     "output_type": "stream",
     "text": [
      "650\n"
     ]
    },
    {
     "name": "stderr",
     "output_type": "stream",
     "text": [
      " 82%|████████▎ | 66/80 [03:49<01:30,  6.47s/it]"
     ]
    },
    {
     "name": "stdout",
     "output_type": "stream",
     "text": [
      "660\n"
     ]
    },
    {
     "name": "stderr",
     "output_type": "stream",
     "text": [
      " 84%|████████▍ | 67/80 [03:55<01:25,  6.55s/it]"
     ]
    },
    {
     "name": "stdout",
     "output_type": "stream",
     "text": [
      "670\n"
     ]
    },
    {
     "name": "stderr",
     "output_type": "stream",
     "text": [
      " 85%|████████▌ | 68/80 [04:02<01:20,  6.69s/it]"
     ]
    },
    {
     "name": "stdout",
     "output_type": "stream",
     "text": [
      "680\n"
     ]
    },
    {
     "name": "stderr",
     "output_type": "stream",
     "text": [
      " 86%|████████▋ | 69/80 [04:09<01:14,  6.77s/it]"
     ]
    },
    {
     "name": "stdout",
     "output_type": "stream",
     "text": [
      "690\n"
     ]
    },
    {
     "name": "stderr",
     "output_type": "stream",
     "text": [
      " 88%|████████▊ | 70/80 [04:16<01:08,  6.84s/it]"
     ]
    },
    {
     "name": "stdout",
     "output_type": "stream",
     "text": [
      "700\n"
     ]
    },
    {
     "name": "stderr",
     "output_type": "stream",
     "text": [
      " 89%|████████▉ | 71/80 [04:23<01:02,  6.94s/it]"
     ]
    },
    {
     "name": "stdout",
     "output_type": "stream",
     "text": [
      "710\n"
     ]
    },
    {
     "name": "stderr",
     "output_type": "stream",
     "text": [
      " 90%|█████████ | 72/80 [04:31<00:56,  7.00s/it]"
     ]
    },
    {
     "name": "stdout",
     "output_type": "stream",
     "text": [
      "720\n"
     ]
    },
    {
     "name": "stderr",
     "output_type": "stream",
     "text": [
      " 91%|█████████▏| 73/80 [04:38<00:49,  7.08s/it]"
     ]
    },
    {
     "name": "stdout",
     "output_type": "stream",
     "text": [
      "730\n"
     ]
    },
    {
     "name": "stderr",
     "output_type": "stream",
     "text": [
      " 92%|█████████▎| 74/80 [04:45<00:43,  7.17s/it]"
     ]
    },
    {
     "name": "stdout",
     "output_type": "stream",
     "text": [
      "740\n"
     ]
    },
    {
     "name": "stderr",
     "output_type": "stream",
     "text": [
      " 94%|█████████▍| 75/80 [04:53<00:36,  7.26s/it]"
     ]
    },
    {
     "name": "stdout",
     "output_type": "stream",
     "text": [
      "750\n"
     ]
    },
    {
     "name": "stderr",
     "output_type": "stream",
     "text": [
      " 95%|█████████▌| 76/80 [05:00<00:29,  7.43s/it]"
     ]
    },
    {
     "name": "stdout",
     "output_type": "stream",
     "text": [
      "760\n"
     ]
    },
    {
     "name": "stderr",
     "output_type": "stream",
     "text": [
      " 96%|█████████▋| 77/80 [05:08<00:22,  7.53s/it]"
     ]
    },
    {
     "name": "stdout",
     "output_type": "stream",
     "text": [
      "770\n"
     ]
    },
    {
     "name": "stderr",
     "output_type": "stream",
     "text": [
      " 98%|█████████▊| 78/80 [05:16<00:15,  7.61s/it]"
     ]
    },
    {
     "name": "stdout",
     "output_type": "stream",
     "text": [
      "780\n"
     ]
    },
    {
     "name": "stderr",
     "output_type": "stream",
     "text": [
      " 99%|█████████▉| 79/80 [05:24<00:07,  7.71s/it]"
     ]
    },
    {
     "name": "stdout",
     "output_type": "stream",
     "text": [
      "790\n"
     ]
    },
    {
     "name": "stderr",
     "output_type": "stream",
     "text": [
      "100%|██████████| 80/80 [05:32<00:00,  4.16s/it]\n"
     ]
    }
   ],
   "source": [
    "## Test-1\n",
    "\n",
    "# Objective : Will perform policy gradient with true Data. and see where it is heading towrads\n",
    "\n",
    "env.reset()\n",
    "D_fake.flush_all()\n",
    "D_real.flush_all()\n",
    "K=1*np.random.rand(3,3)   # Initial phi\n",
    "K_t=K\n",
    "A_hat=0.1*np.diag(np.random.rand(3))   # Initial theta\n",
    "B_hat=0.1*np.diag(np.random.rand(3))   # Initial theta\n",
    "Q_hat=0.1*np.diag(np.ones(3))   # Initial theta\n",
    "R_hat=0.1*np.diag(np.ones(3))   # Initial theta\n",
    "\n",
    "E=80\n",
    "G=80\n",
    "\n",
    "for e in tqdm(range(E)):\n",
    "    # Update D_real\n",
    "    print(len(D_real.buffer))\n",
    "    update_D_real(K_t,env,D_real)\n",
    "    \n",
    "    for g in range(G):\n",
    "        list_of_episodes=get_episodes(D_real)   # Change representation\n",
    "        term=get_gradient(list_of_episodes,K_t)\n",
    "        if e==0:\n",
    "            K_t=K_t-math.pow(10,-2)*(term+np.random.multivariate_normal(np.zeros(3),0.01*np.eye(3)))   # unKnown parameter (From trajectories -off policy settings)\n",
    "        else:  \n",
    "            K_t=K_t-math.pow(10,-2)*(term+0.0) # unKnown parameter (From trajectories -off policy settings)"
   ]
  },
  {
   "cell_type": "code",
   "execution_count": 17,
   "metadata": {},
   "outputs": [
    {
     "data": {
      "text/plain": [
       "1.3017499708805589"
      ]
     },
     "execution_count": 17,
     "metadata": {},
     "output_type": "execute_result"
    }
   ],
   "source": [
    "# compared to where we have started with\n",
    "np.linalg.norm(K_t-K)"
   ]
  },
  {
   "cell_type": "code",
   "execution_count": 18,
   "metadata": {},
   "outputs": [
    {
     "data": {
      "text/plain": [
       "3.5965319567478944"
      ]
     },
     "execution_count": 18,
     "metadata": {},
     "output_type": "execute_result"
    }
   ],
   "source": [
    "# compared \n",
    "np.linalg.norm(K_star-K_t)"
   ]
  }
 ],
 "metadata": {
  "kernelspec": {
   "display_name": "mbpolqr",
   "language": "python",
   "name": "python3"
  },
  "language_info": {
   "codemirror_mode": {
    "name": "ipython",
    "version": 3
   },
   "file_extension": ".py",
   "mimetype": "text/x-python",
   "name": "python",
   "nbconvert_exporter": "python",
   "pygments_lexer": "ipython3",
   "version": "3.10.8"
  },
  "orig_nbformat": 4,
  "vscode": {
   "interpreter": {
    "hash": "4ca9eb65db3eede4f485a5f1082034b4831bf19284d4854b05a2e602a1fbb67a"
   }
  }
 },
 "nbformat": 4,
 "nbformat_minor": 2
}
