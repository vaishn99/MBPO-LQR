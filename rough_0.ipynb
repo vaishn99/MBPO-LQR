{
 "cells": [
  {
   "cell_type": "code",
   "execution_count": null,
   "metadata": {},
   "outputs": [
    {
     "ename": "",
     "evalue": "",
     "output_type": "error",
     "traceback": [
      "\u001b[1;31mFailed to start the Kernel. \n",
      "\u001b[1;31mTraceback (most recent call last):\n",
      "\u001b[1;31m  File \"/Users/vaishnav/Library/Python/3.10/lib/python/site-packages/traitlets/config/application.py\", line 110, in inner\n",
      "\u001b[1;31m    return method(app, *args, **kwargs)\n",
      "\u001b[1;31m  File \"/Users/vaishnav/Library/Python/3.10/lib/python/site-packages/traitlets/config/application.py\", line 824, in parse_command_line\n",
      "\u001b[1;31m    self.update_config(self.cli_config)\n",
      "\u001b[1;31m  File \"/Users/vaishnav/Library/Python/3.10/lib/python/site-packages/traitlets/config/configurable.py\", line 230, in update_config\n",
      "\u001b[1;31m    self._load_config(config)\n",
      "\u001b[1;31m  File \"/Users/vaishnav/Library/Python/3.10/lib/python/site-packages/traitlets/config/configurable.py\", line 167, in _load_config\n",
      "\u001b[1;31m    with self.hold_trait_notifications():\n",
      "\u001b[1;31m  File \"/Library/Frameworks/Python.framework/Versions/3.10/lib/python3.10/contextlib.py\", line 142, in __exit__\n",
      "\u001b[1;31m    next(self.gen)\n",
      "\u001b[1;31m  File \"/Users/vaishnav/Library/Python/3.10/lib/python/site-packages/traitlets/traitlets.py\", line 1362, in hold_trait_notifications\n",
      "\u001b[1;31m    raise e\n",
      "\u001b[1;31m  File \"/Users/vaishnav/Library/Python/3.10/lib/python/site-packages/traitlets/traitlets.py\", line 1348, in hold_trait_notifications\n",
      "\u001b[1;31m    value = trait._cross_validate(self, getattr(self, name))\n",
      "\u001b[1;31m  File \"/Users/vaishnav/Library/Python/3.10/lib/python/site-packages/traitlets/traitlets.py\", line 729, in _cross_validate\n",
      "\u001b[1;31m    value = obj._trait_validators<a href='obj, proposal'>self.name</a>\n",
      "\u001b[1;31m  File \"/Users/vaishnav/Library/Python/3.10/lib/python/site-packages/traitlets/traitlets.py\", line 1132, in __call__\n",
      "\u001b[1;31m    return self.func(*args, **kwargs)\n",
      "\u001b[1;31m  File \"/Users/vaishnav/Library/Python/3.10/lib/python/site-packages/notebook/notebookapp.py\", line 1522, in _notebook_dir_validate\n",
      "\u001b[1;31m    raise TraitError(trans.gettext(\"No such notebook dir: '%r'\") % value)\n",
      "\u001b[1;31mtraitlets.traitlets.TraitError: No such notebook dir: ''/vaishn99/MBPO-LQR''\n",
      "\u001b[1;31m\n",
      "\u001b[1;31mDuring handling of the above exception, another exception occurred:\n",
      "\u001b[1;31m\n",
      "\u001b[1;31mTraceback (most recent call last):\n",
      "\u001b[1;31m  File \"/Users/vaishnav/.vscode/extensions/ms-toolsai.jupyter-2022.11.1003412109/pythonFiles/vscode_datascience_helpers/daemon/daemon_python.py\", line 54, in _decorator\n",
      "\u001b[1;31m    return func(self, *args, **kwargs)\n",
      "\u001b[1;31m  File \"/Users/vaishnav/.vscode/extensions/ms-toolsai.jupyter-2022.11.1003412109/pythonFiles/vscode_datascience_helpers/jupyter_daemon.py\", line 111, in m_exec_module_observable\n",
      "\u001b[1;31m    self._start_notebook(args, cwd, env)\n",
      "\u001b[1;31m  File \"/Users/vaishnav/.vscode/extensions/ms-toolsai.jupyter-2022.11.1003412109/pythonFiles/vscode_datascience_helpers/jupyter_daemon.py\", line 168, in _start_notebook\n",
      "\u001b[1;31m    app.launch_new_instance()\n",
      "\u001b[1;31m  File \"/Users/vaishnav/Library/Python/3.10/lib/python/site-packages/jupyter_core/application.py\", line 269, in launch_instance\n",
      "\u001b[1;31m    return super().launch_instance(argv=argv, **kwargs)\n",
      "\u001b[1;31m  File \"/Users/vaishnav/Library/Python/3.10/lib/python/site-packages/traitlets/config/application.py\", line 981, in launch_instance\n",
      "\u001b[1;31m    app.initialize(argv)\n",
      "\u001b[1;31m  File \"/Users/vaishnav/Library/Python/3.10/lib/python/site-packages/traitlets/config/application.py\", line 110, in inner\n",
      "\u001b[1;31m    return method(app, *args, **kwargs)\n",
      "\u001b[1;31m  File \"/Users/vaishnav/Library/Python/3.10/lib/python/site-packages/notebook/notebookapp.py\", line 2141, in initialize\n",
      "\u001b[1;31m    super().initialize(argv)\n",
      "\u001b[1;31m  File \"/Users/vaishnav/Library/Python/3.10/lib/python/site-packages/traitlets/config/application.py\", line 110, in inner\n",
      "\u001b[1;31m    return method(app, *args, **kwargs)\n",
      "\u001b[1;31m  File \"/Users/vaishnav/Library/Python/3.10/lib/python/site-packages/jupyter_core/application.py\", line 240, in initialize\n",
      "\u001b[1;31m    self.parse_command_line(argv)\n",
      "\u001b[1;31m  File \"/Users/vaishnav/Library/Python/3.10/lib/python/site-packages/notebook/notebookapp.py\", line 1611, in parse_command_line\n",
      "\u001b[1;31m    super().parse_command_line(argv)\n",
      "\u001b[1;31m  File \"/Users/vaishnav/Library/Python/3.10/lib/python/site-packages/traitlets/config/application.py\", line 114, in inner\n",
      "\u001b[1;31m    app.exit(1)\n",
      "\u001b[1;31m  File \"/Users/vaishnav/Library/Python/3.10/lib/python/site-packages/traitlets/config/application.py\", line 969, in exit\n",
      "\u001b[1;31m    sys.exit(exit_status)\n",
      "\u001b[1;31mSystemExit: 1\n",
      "\u001b[1;31m\n",
      "\u001b[1;31m[C 12:22:05.759 NotebookApp] Bad config encountered during initialization: No such notebook dir: ''/vaishn99/MBPO-LQR''\n",
      "\u001b[1;31m\n",
      "\u001b[1;31mFailed to run jupyter as observable with args notebook --no-browser --notebook-dir=\"/vaishn99/MBPO-LQR\" --config=/var/folders/8d/7g7wmn5x63q31tbglz6yl_980000gn/T/d84a6453-d50b-4f4a-81ed-b2e971e8059a/jupyter_notebook_config.py --NotebookApp.iopub_data_rate_limit=10000000000.0"
     ]
    }
   ],
   "source": [
    "import numpy as np"
   ]
  },
  {
   "cell_type": "code",
   "execution_count": null,
   "metadata": {},
   "outputs": [
    {
     "ename": "",
     "evalue": "",
     "output_type": "error",
     "traceback": [
      "\u001b[1;31mFailed to start the Kernel. \n",
      "\u001b[1;31mTraceback (most recent call last):\n",
      "\u001b[1;31m  File \"/Users/vaishnav/Library/Python/3.10/lib/python/site-packages/traitlets/config/application.py\", line 110, in inner\n",
      "\u001b[1;31m    return method(app, *args, **kwargs)\n",
      "\u001b[1;31m  File \"/Users/vaishnav/Library/Python/3.10/lib/python/site-packages/traitlets/config/application.py\", line 824, in parse_command_line\n",
      "\u001b[1;31m    self.update_config(self.cli_config)\n",
      "\u001b[1;31m  File \"/Users/vaishnav/Library/Python/3.10/lib/python/site-packages/traitlets/config/configurable.py\", line 230, in update_config\n",
      "\u001b[1;31m    self._load_config(config)\n",
      "\u001b[1;31m  File \"/Users/vaishnav/Library/Python/3.10/lib/python/site-packages/traitlets/config/configurable.py\", line 167, in _load_config\n",
      "\u001b[1;31m    with self.hold_trait_notifications():\n",
      "\u001b[1;31m  File \"/Library/Frameworks/Python.framework/Versions/3.10/lib/python3.10/contextlib.py\", line 142, in __exit__\n",
      "\u001b[1;31m    next(self.gen)\n",
      "\u001b[1;31m  File \"/Users/vaishnav/Library/Python/3.10/lib/python/site-packages/traitlets/traitlets.py\", line 1362, in hold_trait_notifications\n",
      "\u001b[1;31m    raise e\n",
      "\u001b[1;31m  File \"/Users/vaishnav/Library/Python/3.10/lib/python/site-packages/traitlets/traitlets.py\", line 1348, in hold_trait_notifications\n",
      "\u001b[1;31m    value = trait._cross_validate(self, getattr(self, name))\n",
      "\u001b[1;31m  File \"/Users/vaishnav/Library/Python/3.10/lib/python/site-packages/traitlets/traitlets.py\", line 729, in _cross_validate\n",
      "\u001b[1;31m    value = obj._trait_validators<a href='obj, proposal'>self.name</a>\n",
      "\u001b[1;31m  File \"/Users/vaishnav/Library/Python/3.10/lib/python/site-packages/traitlets/traitlets.py\", line 1132, in __call__\n",
      "\u001b[1;31m    return self.func(*args, **kwargs)\n",
      "\u001b[1;31m  File \"/Users/vaishnav/Library/Python/3.10/lib/python/site-packages/notebook/notebookapp.py\", line 1522, in _notebook_dir_validate\n",
      "\u001b[1;31m    raise TraitError(trans.gettext(\"No such notebook dir: '%r'\") % value)\n",
      "\u001b[1;31mtraitlets.traitlets.TraitError: No such notebook dir: ''/vaishn99/MBPO-LQR''\n",
      "\u001b[1;31m\n",
      "\u001b[1;31mDuring handling of the above exception, another exception occurred:\n",
      "\u001b[1;31m\n",
      "\u001b[1;31mTraceback (most recent call last):\n",
      "\u001b[1;31m  File \"/Users/vaishnav/.vscode/extensions/ms-toolsai.jupyter-2022.9.1303220346/pythonFiles/vscode_datascience_helpers/daemon/daemon_python.py\", line 54, in _decorator\n",
      "\u001b[1;31m    return func(self, *args, **kwargs)\n",
      "\u001b[1;31m  File \"/Users/vaishnav/.vscode/extensions/ms-toolsai.jupyter-2022.9.1303220346/pythonFiles/vscode_datascience_helpers/jupyter_daemon.py\", line 111, in m_exec_module_observable\n",
      "\u001b[1;31m    self._start_notebook(args, cwd, env)\n",
      "\u001b[1;31m  File \"/Users/vaishnav/.vscode/extensions/ms-toolsai.jupyter-2022.9.1303220346/pythonFiles/vscode_datascience_helpers/jupyter_daemon.py\", line 168, in _start_notebook\n",
      "\u001b[1;31m    app.launch_new_instance()\n",
      "\u001b[1;31m  File \"/Users/vaishnav/Library/Python/3.10/lib/python/site-packages/jupyter_core/application.py\", line 269, in launch_instance\n",
      "\u001b[1;31m    return super().launch_instance(argv=argv, **kwargs)\n",
      "\u001b[1;31m  File \"/Users/vaishnav/Library/Python/3.10/lib/python/site-packages/traitlets/config/application.py\", line 981, in launch_instance\n",
      "\u001b[1;31m    app.initialize(argv)\n",
      "\u001b[1;31m  File \"/Users/vaishnav/Library/Python/3.10/lib/python/site-packages/traitlets/config/application.py\", line 110, in inner\n",
      "\u001b[1;31m    return method(app, *args, **kwargs)\n",
      "\u001b[1;31m  File \"/Users/vaishnav/Library/Python/3.10/lib/python/site-packages/notebook/notebookapp.py\", line 2141, in initialize\n",
      "\u001b[1;31m    super().initialize(argv)\n",
      "\u001b[1;31m  File \"/Users/vaishnav/Library/Python/3.10/lib/python/site-packages/traitlets/config/application.py\", line 110, in inner\n",
      "\u001b[1;31m    return method(app, *args, **kwargs)\n",
      "\u001b[1;31m  File \"/Users/vaishnav/Library/Python/3.10/lib/python/site-packages/jupyter_core/application.py\", line 240, in initialize\n",
      "\u001b[1;31m    self.parse_command_line(argv)\n",
      "\u001b[1;31m  File \"/Users/vaishnav/Library/Python/3.10/lib/python/site-packages/notebook/notebookapp.py\", line 1611, in parse_command_line\n",
      "\u001b[1;31m    super().parse_command_line(argv)\n",
      "\u001b[1;31m  File \"/Users/vaishnav/Library/Python/3.10/lib/python/site-packages/traitlets/config/application.py\", line 114, in inner\n",
      "\u001b[1;31m    app.exit(1)\n",
      "\u001b[1;31m  File \"/Users/vaishnav/Library/Python/3.10/lib/python/site-packages/traitlets/config/application.py\", line 969, in exit\n",
      "\u001b[1;31m    sys.exit(exit_status)\n",
      "\u001b[1;31mSystemExit: 1\n",
      "\u001b[1;31m\n",
      "\u001b[1;31m[C 14:47:27.822 NotebookApp] Bad config encountered during initialization: No such notebook dir: ''/vaishn99/MBPO-LQR''\n",
      "\u001b[1;31m\n",
      "\u001b[1;31mFailed to run jupyter as observable with args notebook --no-browser --notebook-dir=\"/vaishn99/MBPO-LQR\" --config=/var/folders/8d/7g7wmn5x63q31tbglz6yl_980000gn/T/83e198ae-6cef-46c6-b142-bba32718ac2e/jupyter_notebook_config.py --NotebookApp.iopub_data_rate_limit=10000000000.0"
     ]
    }
   ],
   "source": [
    "A=[1,2,3,5,3,6,7]\n",
    "A[:4]"
   ]
  }
 ],
 "metadata": {
  "kernelspec": {
   "display_name": "Python 3",
   "language": "python",
   "name": "python3"
  },
  "language_info": {
   "codemirror_mode": {
    "name": "ipython",
    "version": 3
   },
   "file_extension": ".py",
   "mimetype": "text/x-python",
   "name": "python",
   "nbconvert_exporter": "python",
   "pygments_lexer": "ipython3",
   "version": "3.10.6 (v3.10.6:9c7b4bd164, Aug  1 2022, 17:13:48) [Clang 13.0.0 (clang-1300.0.29.30)]"
  },
  "orig_nbformat": 4,
  "vscode": {
   "interpreter": {
    "hash": "7e1998ff7f8aa20ada591c520b972326324e5ea05489af9e422744c7c09f6dad"
   }
  }
 },
 "nbformat": 4,
 "nbformat_minor": 2
}
